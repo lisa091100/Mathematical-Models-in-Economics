{
 "cells": [
  {
   "cell_type": "code",
   "execution_count": 1,
   "id": "76edd316",
   "metadata": {},
   "outputs": [],
   "source": [
    "import pandas as pd\n",
    "import numpy as np\n",
    "import networkx as nx\n",
    "import matplotlib.pyplot as plt"
   ]
  },
  {
   "cell_type": "code",
   "execution_count": 2,
   "id": "ad78bdf9",
   "metadata": {},
   "outputs": [],
   "source": [
    "df = pd.read_excel('ITA_NIOT_nov16.xlsx', sheet_name='National IO-tables')"
   ]
  },
  {
   "cell_type": "code",
   "execution_count": 3,
   "id": "adffce64",
   "metadata": {},
   "outputs": [],
   "source": [
    "# Выбор года\n",
    "df = df[(df['Year'] == 2000)]\n",
    "\n",
    "# Удаление лишних строк\n",
    "search_for = ['Imports', 'TOT']\n",
    "mask = df.applymap(lambda x: any(s in str(x) for s in search_for))\n",
    "rows_analysis = mask.any(axis=1)\n",
    "rows_to_drop = rows_analysis[rows_analysis == True].index.tolist()\n",
    "df_filtered = df.drop(rows_to_drop, axis=0)\n",
    "\n",
    "#Сохранение названий отраслей\n",
    "description = df_filtered['Description']\n",
    "\n",
    "# Сохранение данных TOTAL_OUTPUT\n",
    "total_output = df_filtered['GO']\n",
    "\n",
    "# Замена нулевых значений в столбце TOTAL_OUTPUT\n",
    "total_output = (total_output.replace(0, np.inf)).astype(float)\n",
    "\n",
    "# Вектор конечных выпусков отраслей\n",
    "w = df_filtered.loc[:, 'CONS_h':'GFCF']\n",
    "w = w.sum(axis = 1)\n",
    "\n",
    "# Удаление лишних столбцов\n",
    "df_filtered = df_filtered.drop(['GO', 'Year', 'Code','Origin', 'Description','CONS_h', 'CONS_np', 'CONS_g', 'GFCF', 'INVEN', 'EXP'], axis = 1)"
   ]
  },
  {
   "cell_type": "markdown",
   "id": "a0dd3f91",
   "metadata": {},
   "source": [
    "Создание матрицы $A = \\|{ a_{ij}}\\| = \\frac{z_{ij}}{Y_{j}}$, где $z_{ij}$ $~-$ поставка продукции $i$-ой отрасли в $j$-ую отрасль в период времени $t$, $Y_{j}$ $~-$ объём производства $j$-ой отрасли в период времени $t$."
   ]
  },
  {
   "cell_type": "code",
   "execution_count": 4,
   "id": "7235ba83",
   "metadata": {},
   "outputs": [],
   "source": [
    "A = df_filtered.copy()\n",
    "for i in df_filtered.columns:\n",
    "    A[i] = df_filtered[i]/total_output\n",
    "#print(A)\n",
    "row_power = np.sum(A, axis = 0)\n",
    "index_for_delete = []\n",
    "for i in range(len(row_power)):\n",
    "    if row_power[i] == 0:\n",
    "        index_for_delete.append(i)\n",
    "A = A.drop(A.columns[index_for_delete], axis = 1).drop(A.index[index_for_delete], axis = 0)\n",
    "description = description.drop(description.index[index_for_delete])\n",
    "#print(A)"
   ]
  },
  {
   "cell_type": "markdown",
   "id": "4f289b05",
   "metadata": {},
   "source": [
    "Вектор конечного потребления $\\overrightarrow{w}$"
   ]
  },
  {
   "cell_type": "code",
   "execution_count": 5,
   "id": "db6bc607",
   "metadata": {},
   "outputs": [],
   "source": [
    "for i in index_for_delete:\n",
    "    del w[i+1]"
   ]
  },
  {
   "cell_type": "markdown",
   "id": "7c5acd05",
   "metadata": {},
   "source": [
    "Проверка продуктивности (все последовательные главные миноры должны быть положительными):"
   ]
  },
  {
   "cell_type": "code",
   "execution_count": 6,
   "id": "b529673f",
   "metadata": {},
   "outputs": [
    {
     "name": "stdout",
     "output_type": "stream",
     "text": [
      "Матрица продуктивная!\n"
     ]
    }
   ],
   "source": [
    "for i in range(1, np.shape(A)[0] + 1):\n",
    "    if (np.linalg.det(np.eye(i) - np.matrix(A, dtype = float)[:i,:i]) <= 0):\n",
    "        print(\"Условие не выполняется!\")\n",
    "        break\n",
    "    elif i == np.shape(A)[0]:\n",
    "        print(\"Матрица продуктивная!\")\n",
    "    else:\n",
    "        continue"
   ]
  },
  {
   "cell_type": "markdown",
   "id": "3352b250",
   "metadata": {},
   "source": [
    "Вектор валового выпуска $\\overrightarrow{x}$:"
   ]
  },
  {
   "cell_type": "markdown",
   "id": "e4ddedf7",
   "metadata": {},
   "source": [
    "$$\\overrightarrow{x} = A\\overrightarrow{x} + \\overrightarrow{w}$$\n",
    "$$\\overrightarrow{x} = (E - A)^{-1}\\overrightarrow{w}$$"
   ]
  },
  {
   "cell_type": "code",
   "execution_count": 7,
   "id": "aac7893c",
   "metadata": {},
   "outputs": [],
   "source": [
    "size = A.shape[0]\n",
    "D = np.eye(size) - np.array(A, dtype = float)\n",
    "w =  np.array(w)\n",
    "w = w.reshape(54,1)\n",
    "#print(w.shape, D.shape)\n",
    "x = np.linalg.inv(D) @ w\n",
    "#print(x)"
   ]
  },
  {
   "cell_type": "code",
   "execution_count": 8,
   "id": "3fe6a3ce",
   "metadata": {},
   "outputs": [],
   "source": [
    "#K = np.linalg.inv(D)\n",
    "#(K[0] * w[:, 0]).sum()"
   ]
  },
  {
   "cell_type": "markdown",
   "id": "a163f991",
   "metadata": {},
   "source": [
    "## Вычисление вектора и числа Фробениуса – Перрона"
   ]
  },
  {
   "cell_type": "markdown",
   "id": "d99913c0",
   "metadata": {},
   "source": [
    "Пусть $A \\geqslant 0$ – матрица размером $n \\times n$ . \n",
    "Выберем $x_0 \\in \\mathbb {R}^n$, $x_0 = (1,...,1)$ $~-$ начальное приближение собственного вектора $\\overrightarrow{x}(A)$. Для каждой итерации $k > 0$ необходимо выполнить следующие действия: \n",
    "1. Вычисление очередного приближения для вектора Фробениуса – Перрона: $$x_{k+1} = Ax_{k}$$\n",
    "2. Вычисление очередного приближения для числа Фробениуса – Перрона: \n",
    "$$\\lambda^{k+1} = \\frac{1}{n}\\sum\\limits_{i=1}^n\\frac{x_i^{k+1}}{x_i^{k}}$$\n",
    "3. Нормировка вектора $x_{k+1}$:\n",
    "$$\\widetilde{x}^{k+1} = \\frac{1}{\\max\\limits_{i}{x_i^{k+1}}}{x}^{k+1}$$\n",
    "4. Проверка условия достижения заданной точности вычислений: $|\\lambda_{k +1} -\\lambda_{k}| < \\varepsilon$. Если заданная точность достигнута, то $\\lambda_{k +1}$ и $\\widetilde{x}^{k+1}$ взять в качестве искомых собственного числа и собственного вектора. В противном случае взять в качестве ${x}^{k}$ вектор $\\widetilde{x}^{k+1}$ и перейти к очередной итерации. "
   ]
  },
  {
   "cell_type": "code",
   "execution_count": 9,
   "id": "cfa7130b",
   "metadata": {},
   "outputs": [],
   "source": [
    "def find_FP(A, eps):\n",
    "    A = np.matrix(A, dtype = float)\n",
    "    n = A.shape[0]\n",
    "    x_last = np.ones((n, 1))\n",
    "    lambda_last = -1\n",
    "    lambda_next = -1\n",
    "    while ((abs(lambda_next - lambda_last) >= eps) or (lambda_next <= 0)):\n",
    "        x_next = A @ x_last\n",
    "        temp = x_next/x_last\n",
    "        x_next = x_next/max(x_next)\n",
    "        lambda_last = lambda_next\n",
    "        lambda_next = sum(temp)/n;\n",
    "        x_last = x_next\n",
    "    res_lambda = lambda_next\n",
    "    res_x = x_next\n",
    "    return [res_lambda, res_x]"
   ]
  },
  {
   "cell_type": "code",
   "execution_count": 10,
   "id": "25edabe4",
   "metadata": {},
   "outputs": [
    {
     "name": "stdout",
     "output_type": "stream",
     "text": [
      "Число Фробениуса-Перрона для матрицы A: [[0.44579297]]\n",
      "Вектор Фробениуса-Перрона для матрицы A:\n",
      " [[0.21169162]\n",
      " [0.5612926 ]\n",
      " [0.0749066 ]\n",
      " [0.87104567]\n",
      " [0.12572092]\n",
      " [0.11080189]\n",
      " [0.53324305]\n",
      " [0.71460607]\n",
      " [1.        ]\n",
      " [0.39276972]\n",
      " [0.42015032]\n",
      " [0.14364716]\n",
      " [0.43527251]\n",
      " [0.53704595]\n",
      " [0.69865731]\n",
      " [0.48858143]\n",
      " [0.16221521]\n",
      " [0.26010129]\n",
      " [0.21282725]\n",
      " [0.16015663]\n",
      " [0.14817538]\n",
      " [0.11998541]\n",
      " [0.35521808]\n",
      " [0.53125446]\n",
      " [0.26700288]\n",
      " [0.46654368]\n",
      " [0.17504926]\n",
      " [0.1987838 ]\n",
      " [0.47636943]\n",
      " [0.31375248]\n",
      " [0.54762197]\n",
      " [0.2398622 ]\n",
      " [0.29953383]\n",
      " [0.69459114]\n",
      " [0.6935228 ]\n",
      " [0.1654221 ]\n",
      " [0.35131079]\n",
      " [0.72000306]\n",
      " [0.50344261]\n",
      " [0.5353383 ]\n",
      " [0.49628768]\n",
      " [0.0839429 ]\n",
      " [0.57645259]\n",
      " [0.19927897]\n",
      " [0.70627233]\n",
      " [0.81484291]\n",
      " [0.3900579 ]\n",
      " [0.68736858]\n",
      " [0.65527431]\n",
      " [0.67748392]\n",
      " [0.00630962]\n",
      " [0.04996486]\n",
      " [0.00461036]\n",
      " [0.21575824]]\n"
     ]
    }
   ],
   "source": [
    "lambda_answ_A = find_FP(A, 0.01)[0]\n",
    "x_answ_A = find_FP(A, 0.01)[1]\n",
    "print('Число Фробениуса-Перрона для матрицы A:', lambda_answ_A)\n",
    "print('Вектор Фробениуса-Перрона для матрицы A:\\n', x_answ_A)"
   ]
  },
  {
   "cell_type": "markdown",
   "id": "ee07ca68",
   "metadata": {},
   "source": [
    "## Процедура исключения отраслей"
   ]
  },
  {
   "cell_type": "markdown",
   "id": "1835f46f",
   "metadata": {},
   "source": [
    "Пусть имеется матрица прямых затрат $A = ||a_{ij}||$ размерности $n \\times n$. Предположим, что для анализа нужны только r отраслей. Требуется найти матрицу прямых затрат $B = ||b_{ij}||$ размерностью $r \\times r$ для выделенных отраслей."
   ]
  },
  {
   "cell_type": "code",
   "execution_count": 11,
   "id": "46954958",
   "metadata": {},
   "outputs": [],
   "source": [
    "save_industry = [5, 7, 10, 14, 18, 26, 37, 39, 48, 52]\n",
    "r = len(save_industry)"
   ]
  },
  {
   "cell_type": "code",
   "execution_count": 12,
   "id": "025d31a2",
   "metadata": {},
   "outputs": [],
   "source": [
    "#A"
   ]
  },
  {
   "cell_type": "code",
   "execution_count": 13,
   "id": "c3e77558",
   "metadata": {},
   "outputs": [],
   "source": [
    "A_copy = A.to_numpy()"
   ]
  },
  {
   "cell_type": "code",
   "execution_count": 14,
   "id": "2d165eae",
   "metadata": {},
   "outputs": [],
   "source": [
    "A11 = np.zeros((r, r))\n",
    "m = -1\n",
    "for i in save_industry:\n",
    "    m += 1\n",
    "    p = 0\n",
    "    for k in save_industry:\n",
    "        A11[m][p]  = A_copy[i-1][k-1]\n",
    "        p += 1"
   ]
  },
  {
   "cell_type": "code",
   "execution_count": 15,
   "id": "f7789554",
   "metadata": {},
   "outputs": [],
   "source": [
    "index = [i-1 for i in save_industry]\n",
    "n = A_copy.shape[0]\n",
    "all_index = list([i for i in range(n)])\n",
    "arr = list(set(all_index) - set(index)) # Индексы исключённых (n-r) отраслей"
   ]
  },
  {
   "cell_type": "code",
   "execution_count": 16,
   "id": "46b9cd8b",
   "metadata": {},
   "outputs": [],
   "source": [
    "n = A_copy.shape[0]\n",
    "A12 = np.zeros((r, n - r))\n",
    "m = -1\n",
    "for i in index:\n",
    "    m += 1\n",
    "    p = 0\n",
    "    for k in arr:\n",
    "        A12[m][p] = A_copy[i][k]\n",
    "        p += 1"
   ]
  },
  {
   "cell_type": "code",
   "execution_count": 17,
   "id": "c153fe0e",
   "metadata": {},
   "outputs": [],
   "source": [
    "A21 = np.zeros((n - r, r))\n",
    "m = -1\n",
    "for i in arr:\n",
    "    m += 1\n",
    "    p = 0\n",
    "    for k in index:\n",
    "        A21[m][p] = A_copy[i][k]\n",
    "        p += 1"
   ]
  },
  {
   "cell_type": "code",
   "execution_count": 18,
   "id": "957f88f0",
   "metadata": {},
   "outputs": [],
   "source": [
    "A22 = np.zeros((n - r, n - r))\n",
    "m = -1\n",
    "for i in arr:\n",
    "    m += 1\n",
    "    p = 0\n",
    "    for k in arr:\n",
    "        A22[m][p] = A_copy[i][k]\n",
    "        p += 1"
   ]
  },
  {
   "cell_type": "markdown",
   "id": "53268874",
   "metadata": {},
   "source": [
    "$$B = A_{11}+A_{12}(E-A_{22})^{-1}A_{21}$$"
   ]
  },
  {
   "cell_type": "code",
   "execution_count": 19,
   "id": "6b8269d7",
   "metadata": {},
   "outputs": [],
   "source": [
    "B = A11 + A12 @ (np.eye(n - r) - A22) @ A21"
   ]
  },
  {
   "cell_type": "code",
   "execution_count": 20,
   "id": "9bf9e38b",
   "metadata": {},
   "outputs": [],
   "source": [
    "#lambda_answ_B = find_FP(B, 0.01)[0]\n",
    "#x_answ_B = find_FP(B, 0.01)[1]\n",
    "#print('Число Фробениуса-Перрона для матрицы после исключения отраслей:\\n', lambda_answ_B)\n",
    "#print('Вектор Фробениуса-Перрона для матрицы после исключения отраслей:\\n', x_answ_B)"
   ]
  },
  {
   "cell_type": "code",
   "execution_count": 21,
   "id": "21785849",
   "metadata": {},
   "outputs": [],
   "source": [
    "size = B.shape[0]\n",
    "D_B = np.eye(size) - B\n",
    "w_B =  np.zeros((r, 1))\n",
    "k = 0\n",
    "for i in save_industry:\n",
    "    w_B[k] = w[i]\n",
    "    k += 1\n",
    "x_B = np.linalg.inv(D_B) @ w_B\n",
    "#print(x)"
   ]
  },
  {
   "cell_type": "markdown",
   "id": "e5e69394",
   "metadata": {},
   "source": [
    "## Процедура агрегирования матрицы прямых затрат"
   ]
  },
  {
   "cell_type": "markdown",
   "id": "e9458ab6",
   "metadata": {},
   "source": [
    "Пусть имеется матрица прямых затрат $A = ||a_{ij}||$ размерности $n \\times n$ и задан вектор валовых выпусков отраслей $\\overrightarrow{x} = (x_1,...,x_n) \\geqslant 0$. Предположим, что множество номеров отраслей $I =${$1,2,..,n$} разбито на $s$ непересекающихся подмножеств $I_1$, $I_2$,..., $I_s$. Каждое подмножество определяет номера отраслей, входящих в соответствующую укрупненную отрасль.\n",
    "\n",
    "Требуется найти агрегированную матрицу $C = ||c_{ij}||$, размерностью $s \\times s$ для укрупненных отраслей.\n",
    "\n",
    "Коэффициенты матрицы $C = ||c_{ij}||$ вычисляются по формуле:\n",
    "$$c_{kl} = \\frac{\\sum\\limits_{i \\in I_k}\\sum\\limits_{j \\in I_l}a_{ij}x_{j}}{\\sum\\limits_{j \\in I_l}x_j}$$"
   ]
  },
  {
   "cell_type": "code",
   "execution_count": 22,
   "id": "a1f49c29",
   "metadata": {},
   "outputs": [],
   "source": [
    "#description"
   ]
  },
  {
   "cell_type": "code",
   "execution_count": 23,
   "id": "b23e8642",
   "metadata": {},
   "outputs": [],
   "source": [
    "#pip install googletrans==4.0.0rc1"
   ]
  },
  {
   "cell_type": "code",
   "execution_count": 24,
   "id": "68383aac",
   "metadata": {},
   "outputs": [],
   "source": [
    "from googletrans import Translator\n",
    "translator = Translator()\n"
   ]
  },
  {
   "cell_type": "code",
   "execution_count": 25,
   "id": "86cc1855",
   "metadata": {},
   "outputs": [],
   "source": [
    "russian_description = []\n",
    "for i in description:\n",
    "    str_ = translator.translate(i, dest = 'russian').text\n",
    "    russian_description.append(str_)\n",
    "#russian_description"
   ]
  },
  {
   "cell_type": "code",
   "execution_count": 26,
   "id": "58cbca10",
   "metadata": {},
   "outputs": [],
   "source": [
    "list_index = [i for i in range(n)]\n",
    "index_russian_description = [list_index[:4], list_index[4:26], list_index[26:41], list_index[41:]]"
   ]
  },
  {
   "cell_type": "code",
   "execution_count": 27,
   "id": "199e582a",
   "metadata": {},
   "outputs": [
    {
     "data": {
      "text/plain": [
       "array([[0.02853058, 0.1040643 , 0.02792625, 0.00996803],\n",
       "       [0.06571094, 0.30073234, 0.31005226, 0.12831219],\n",
       "       [0.02634646, 0.11185507, 0.30195015, 0.16108375],\n",
       "       [0.02354959, 0.08764485, 0.21258901, 0.15724998]])"
      ]
     },
     "execution_count": 27,
     "metadata": {},
     "output_type": "execute_result"
    }
   ],
   "source": [
    "A_copy = A.to_numpy()\n",
    "size_C = len(index_russian_description)\n",
    "C = np.zeros((size_C, size_C))\n",
    "for k in range(size_C):\n",
    "    for l in range(size_C):\n",
    "        list_ind_k = index_russian_description[k]\n",
    "        list_ind_l = index_russian_description[l]\n",
    "        for i in list_ind_k:\n",
    "            for j in list_ind_l:\n",
    "                C[k][l] += A_copy[i][j]*x[j]\n",
    "        sum_xj = 0\n",
    "        for j in list_ind_l:\n",
    "            sum_xj += x[j]\n",
    "        C[k][l] /= sum_xj\n",
    "C"
   ]
  },
  {
   "cell_type": "code",
   "execution_count": 28,
   "id": "90422604",
   "metadata": {},
   "outputs": [
    {
     "name": "stdout",
     "output_type": "stream",
     "text": [
      "Матрица продуктивная!\n"
     ]
    }
   ],
   "source": [
    "for i in range(1, C.shape[0] + 1):\n",
    "    if (np.linalg.det(np.eye(i) - np.matrix(C, dtype = float)[:i,:i]) <= 0):\n",
    "        print(\"Условие не выполняется!\")\n",
    "        break\n",
    "    elif i == np.shape(C)[0]:\n",
    "        print(\"Матрица продуктивная!\")\n",
    "    else:\n",
    "        continue"
   ]
  },
  {
   "cell_type": "code",
   "execution_count": 29,
   "id": "f99e58d4",
   "metadata": {},
   "outputs": [
    {
     "name": "stdout",
     "output_type": "stream",
     "text": [
      "Число Фробениуса-Перрона для агрегированной матрицы:\n",
      " [[0.60303245]]\n",
      "Вектор Фробениуса-Перрона для агрегированной матрицы:\n",
      " [[0.22407284]\n",
      " [1.        ]\n",
      " [0.69407683]\n",
      " [0.54536582]]\n"
     ]
    }
   ],
   "source": [
    "lambda_answ_C = find_FP(C, 0.01)[0]\n",
    "x_answ_C = find_FP(C, 0.01)[1]\n",
    "print('Число Фробениуса-Перрона для агрегированной матрицы:\\n', lambda_answ_C)\n",
    "print('Вектор Фробениуса-Перрона для агрегированной матрицы:\\n', x_answ_C)"
   ]
  },
  {
   "cell_type": "code",
   "execution_count": null,
   "id": "d941d032",
   "metadata": {},
   "outputs": [],
   "source": []
  }
 ],
 "metadata": {
  "kernelspec": {
   "display_name": "Python 3 (ipykernel)",
   "language": "python",
   "name": "python3"
  },
  "language_info": {
   "codemirror_mode": {
    "name": "ipython",
    "version": 3
   },
   "file_extension": ".py",
   "mimetype": "text/x-python",
   "name": "python",
   "nbconvert_exporter": "python",
   "pygments_lexer": "ipython3",
   "version": "3.9.7"
  }
 },
 "nbformat": 4,
 "nbformat_minor": 5
}
