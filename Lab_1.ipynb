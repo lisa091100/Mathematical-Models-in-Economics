{
 "cells": [
  {
   "cell_type": "code",
   "execution_count": 1,
   "id": "aade2010",
   "metadata": {},
   "outputs": [],
   "source": [
    "import pandas as pd\n",
    "import numpy as np\n",
    "import networkx as nx\n",
    "import matplotlib.pyplot as plt"
   ]
  },
  {
   "cell_type": "code",
   "execution_count": 2,
   "id": "9701c03e",
   "metadata": {},
   "outputs": [
    {
     "name": "stdout",
     "output_type": "stream",
     "text": [
      "Requirement already satisfied: openpyxl in c:\\users\\elis\\anaconda3\\envs\\myenv\\lib\\site-packages (3.0.10)\n",
      "Requirement already satisfied: et-xmlfile in c:\\users\\elis\\anaconda3\\envs\\myenv\\lib\\site-packages (from openpyxl) (1.1.0)\n",
      "Note: you may need to restart the kernel to use updated packages.\n"
     ]
    }
   ],
   "source": [
    "pip install openpyxl"
   ]
  },
  {
   "cell_type": "markdown",
   "id": "8100e8b4",
   "metadata": {},
   "source": [
    "Открытие файла .xlsx с выбранной страной:"
   ]
  },
  {
   "cell_type": "code",
   "execution_count": 3,
   "id": "e7b6a83f",
   "metadata": {},
   "outputs": [],
   "source": [
    "df = pd.read_excel('ITA_NIOT_nov16.xlsx', sheet_name='National IO-tables')"
   ]
  },
  {
   "cell_type": "markdown",
   "id": "744a112f",
   "metadata": {},
   "source": [
    "Анализ таблицы и её изменение:"
   ]
  },
  {
   "cell_type": "code",
   "execution_count": 4,
   "id": "7d6f155f",
   "metadata": {
    "scrolled": false
   },
   "outputs": [],
   "source": [
    "# Выбор года\n",
    "df = df[(df['Year'] == 2000)]\n",
    "\n",
    "# Удаление лишних строк\n",
    "search_for = ['Imports', 'TOT']\n",
    "mask = df.applymap(lambda x: any(s in str(x) for s in search_for))\n",
    "rows_analysis = mask.any(axis=1)\n",
    "rows_to_drop = rows_analysis[rows_analysis == True].index.tolist()\n",
    "df_filtered = df.drop(rows_to_drop, axis=0)\n",
    "\n",
    "#Сохранение названий отраслей\n",
    "description = df_filtered['Description']\n",
    "\n",
    "# Сохранение данных TOTAL_OUTPUT\n",
    "total_output = df_filtered['GO']\n",
    "\n",
    "# Замена нулевых значений в столбце TOTAL_OUTPUT\n",
    "total_output = (total_output.replace(0, np.inf)).astype(float)\n",
    "\n",
    "# Удаление лишних столбцов\n",
    "df_filtered = df_filtered.drop(['GO', 'Year', 'Code','Origin', 'Description','CONS_h', 'CONS_np', 'CONS_g', 'GFCF', 'INVEN', 'EXP'], axis = 1)\n",
    "#print(df_filtered)\n",
    "#print(description"
   ]
  },
  {
   "cell_type": "markdown",
   "id": "2ebe1fcb",
   "metadata": {},
   "source": [
    "Создание матрицы $A = \\|{ a_{ij}}\\| = \\frac{z_{ij}}{Y_{j}}$, где $z_{ij}$ $~-$ поставка продукции $i$-ой отрасли в $j$-ую отрасль в период времени $t$, $Y_{j}$ $~-$ объём производства $j$-ой отрасли в период времени $t$."
   ]
  },
  {
   "cell_type": "code",
   "execution_count": 5,
   "id": "4dfcd4f3",
   "metadata": {},
   "outputs": [],
   "source": [
    "# ПРИМЕР\n",
    "# arr = np.array([[1, 2, 3], [4, 5, 8]]) \n",
    "# df = pd.DataFrame(data = arr, index =[\"row1\", \"row2\"], columns =[\"col1\", \"col2\", \"col3\"])\n",
    "# print(df)\n",
    "# A = df.copy()\n",
    "# total_output = df['col3']\n",
    "# print(total_output)\n",
    "# for i in df.columns:\n",
    "    # A[i] = df[i]/total_output\n",
    "# print(A)"
   ]
  },
  {
   "cell_type": "code",
   "execution_count": 6,
   "id": "a655cd21",
   "metadata": {},
   "outputs": [],
   "source": [
    "A = df_filtered.copy()\n",
    "for i in df_filtered.columns:\n",
    "    A[i] = df_filtered[i]/total_output\n",
    "#print(A)"
   ]
  },
  {
   "cell_type": "markdown",
   "id": "1992f5e7",
   "metadata": {},
   "source": [
    "Проверка продуктивности (все последовательные главные миноры должны быть положительными):"
   ]
  },
  {
   "cell_type": "code",
   "execution_count": 7,
   "id": "c2210d76",
   "metadata": {},
   "outputs": [],
   "source": [
    "# ПРИМЕР\n",
    "# a = np.random.randint(10, size = (3, 3))\n",
    "# print(a)\n",
    "# print(np.shape(a)[0])\n",
    "# for i in range(1, np.shape(a)[0] + 1):\n",
    "    # print(np.linalg.det(a[:i,:i]))"
   ]
  },
  {
   "cell_type": "code",
   "execution_count": 8,
   "id": "8c3a3722",
   "metadata": {},
   "outputs": [
    {
     "name": "stdout",
     "output_type": "stream",
     "text": [
      "Матрица продуктивная!\n"
     ]
    }
   ],
   "source": [
    "for i in range(1, np.shape(A)[0] + 1):\n",
    "    if (np.linalg.det(np.eye(i) - np.matrix(A, dtype = float)[:i,:i]) <= 0):\n",
    "        print(\"Условие не выполняется!\")\n",
    "        break\n",
    "    elif i == np.shape(A)[0]:\n",
    "        print(\"Матрица продуктивная!\")"
   ]
  },
  {
   "cell_type": "markdown",
   "id": "45997d91",
   "metadata": {},
   "source": [
    "Считаем связь первого порядка $$d_{i} = \\sum\\limits_{j=1 \\atop {i \\neq j}}^n a_{ij}$$ - насколько важна отрасль $i$ при прямых поставках из $i$ в $j$:"
   ]
  },
  {
   "cell_type": "code",
   "execution_count": 9,
   "id": "8ce7f36d",
   "metadata": {},
   "outputs": [],
   "source": [
    "d = A.sum(axis = 1) - np.diag(A)\n",
    "d.index = description\n",
    "#d"
   ]
  },
  {
   "cell_type": "markdown",
   "id": "c485d885",
   "metadata": {},
   "source": [
    "Считаем связь второго порядка $${dd}_{i} = \\mathop{\\sum\\limits_{j=1 \\atop {i \\neq j}}^n\\sum\\limits_{k=1}^n a_{ik}a_{kj}}$$ $~-$ как отрасль $i$ косвенно влияет на отрасль $j$:"
   ]
  },
  {
   "cell_type": "code",
   "execution_count": 16,
   "id": "dfb73a62",
   "metadata": {},
   "outputs": [],
   "source": [
    "description.index = A.columns\n",
    "A.index = description\n",
    "A.columns = description\n",
    "A = A.astype(float)\n",
    "dd = np.zeros((56, 1))\n",
    "index_to_name = description.copy()\n",
    "index_to_name.index = np.arange(0, 56)\n",
    "for i in range(56):\n",
    "    for j in A.columns:\n",
    "        for k in A.index:\n",
    "            if j != k:\n",
    "                dd[i] = dd[i] + A[index_to_name[i]][k]*A[k][j]\n",
    "#dd"
   ]
  },
  {
   "cell_type": "code",
   "execution_count": 11,
   "id": "7cab4223",
   "metadata": {},
   "outputs": [
    {
     "data": {
      "text/html": [
       "\n",
       "        <iframe\n",
       "            width=\"800px\"\n",
       "            height=\"400px\"\n",
       "            src=\"mygraph.html\"\n",
       "            frameborder=\"0\"\n",
       "            allowfullscreen\n",
       "            \n",
       "        ></iframe>\n",
       "        "
      ],
      "text/plain": [
       "<IPython.lib.display.IFrame at 0x2f65388edc0>"
      ]
     },
     "execution_count": 11,
     "metadata": {},
     "output_type": "execute_result"
    },
    {
     "data": {
      "text/plain": [
       "<Figure size 1080x720 with 0 Axes>"
      ]
     },
     "metadata": {},
     "output_type": "display_data"
    }
   ],
   "source": [
    "for i in A.columns:\n",
    "    A[i] = A[i].apply(lambda x: x if x > 0.02 else 0)\n",
    "plt.figure(figsize =(15, 10))\n",
    "G = nx.from_pandas_adjacency(A, create_using = nx.DiGraph)\n",
    "\n",
    "def w_func(w):\n",
    "    return w*50\n",
    "weight = d.copy().apply(w_func)\n",
    "nx.set_node_attributes(G, weight,'size')\n",
    "\n",
    "from pyvis.network import Network\n",
    "net = Network(height='400px', width='800px',heading='', notebook = True, directed=True)\n",
    "#net.show_buttons(filter_=True)\n",
    "net.from_nx(G)\n",
    "net.set_options(\"\"\"var options = {\n",
    "  \"nodes\": {\n",
    "    \"borderWidth\": 0,\n",
    "    \"borderWidthSelected\": 0,\n",
    "    \"color\": \"rgba(109, 40, 217)\",\n",
    "    \"opacity\": null,\n",
    "    \"font\": {\n",
    "      \"size\": 12\n",
    "    },\n",
    "    \"scaling\": {\n",
    "      \"min\": 2,\n",
    "      \"max\": 72,\n",
    "      \"label\": {\n",
    "        \"enabled\": true,\n",
    "        \"min\": null,\n",
    "        \"max\": null,\n",
    "        \"maxVisible\": null,\n",
    "        \"drawThreshold\": null\n",
    "      }\n",
    "    },\n",
    "    \"shadow\": {\n",
    "      \"enabled\": true,\n",
    "      \"size\": 15,\n",
    "      \"x\": 20\n",
    "    },\n",
    "    \"shape\": \"circle\",\n",
    "    \"size\": 80\n",
    "  },\n",
    "  \"edges\": {\n",
    "    \"color\": {\n",
    "      \"color\": \"rgba(196, 181, 253)\",\n",
    "      \"opacity\": 0.9\n",
    "    },\n",
    "    \"dashes\": true,\n",
    "    \"selfReferenceSize\": null,\n",
    "    \"selfReference\": {\n",
    "      \"angle\": 0.7853981633974483\n",
    "    },\n",
    "    \"smooth\": {\n",
    "      \"forceDirection\": \"none\"\n",
    "    }\n",
    "  },\n",
    "  \"physics\": {\n",
    "    \"barnesHut\": {\n",
    "      \"gravitationalConstant\": -2000\n",
    "    },\n",
    "    \"minVelocity\": 0.75\n",
    "  }\n",
    "}\"\"\"\n",
    ")\n",
    "#net.toggle_physics(True) # выключение физического взаимодействия\n",
    "net.show('mygraph.html')"
   ]
  },
  {
   "cell_type": "code",
   "execution_count": 12,
   "id": "bcbb1e2c",
   "metadata": {},
   "outputs": [
    {
     "data": {
      "text/html": [
       "\n",
       "        <iframe\n",
       "            width=\"800px\"\n",
       "            height=\"400px\"\n",
       "            src=\"mygraph2.html\"\n",
       "            frameborder=\"0\"\n",
       "            allowfullscreen\n",
       "            \n",
       "        ></iframe>\n",
       "        "
      ],
      "text/plain": [
       "<IPython.lib.display.IFrame at 0x2f653b44fa0>"
      ]
     },
     "execution_count": 12,
     "metadata": {},
     "output_type": "execute_result"
    },
    {
     "data": {
      "text/plain": [
       "<Figure size 1080x720 with 0 Axes>"
      ]
     },
     "metadata": {},
     "output_type": "display_data"
    }
   ],
   "source": [
    "plt.figure(figsize =(15, 10))\n",
    "dd = pd.DataFrame(dd)\n",
    "weight = dd.copy().apply(w_func)\n",
    "nx.set_node_attributes(G,weight,'size')\n",
    "\n",
    "net2 = Network(height='400px', width='800px',heading='', notebook = True, directed=True)\n",
    "#net.show_buttons(filter_=True)\n",
    "net2.from_nx(G)\n",
    "net2.set_options(\"\"\"var options = {\n",
    "  \"nodes\": {\n",
    "    \"borderWidth\": 0,\n",
    "    \"borderWidthSelected\": 0,\n",
    "    \"color\": \"rgba(166, 33, 117)\",\n",
    "    \"opacity\": null,\n",
    "    \"font\": {\n",
    "      \"size\": 12\n",
    "    },\n",
    "    \"scaling\": {\n",
    "      \"min\": 2,\n",
    "      \"max\": 72,\n",
    "      \"label\": {\n",
    "        \"enabled\": true,\n",
    "        \"min\": null,\n",
    "        \"max\": null,\n",
    "        \"maxVisible\": null,\n",
    "        \"drawThreshold\": null\n",
    "      }\n",
    "    },\n",
    "    \"shadow\": {\n",
    "      \"enabled\": true,\n",
    "      \"size\": 15,\n",
    "      \"x\": 20\n",
    "    },\n",
    "    \"shape\": \"circle\",\n",
    "    \"size\": 80\n",
    "  },\n",
    "  \"edges\": {\n",
    "    \"color\": {\n",
    "      \"color\": \"rgb(230, 163, 182)\",\n",
    "      \"opacity\": 0.9\n",
    "    },\n",
    "    \"dashes\": true,\n",
    "    \"selfReferenceSize\": null,\n",
    "    \"selfReference\": {\n",
    "      \"angle\": 0.7853981633974483\n",
    "    },\n",
    "    \"smooth\": {\n",
    "      \"forceDirection\": \"none\"\n",
    "    }\n",
    "  },\n",
    "  \"physics\": {\n",
    "    \"barnesHut\": {\n",
    "      \"gravitationalConstant\": -2000\n",
    "    },\n",
    "    \"minVelocity\": 0.75\n",
    "  }\n",
    "}\"\"\"\n",
    ")\n",
    "#net.toggle_physics(True) # выключение физического взаимодействия\n",
    "net2.show('mygraph2.html')"
   ]
  },
  {
   "cell_type": "code",
   "execution_count": 13,
   "id": "c87b16a2",
   "metadata": {},
   "outputs": [],
   "source": [
    "d.index = df_filtered.index\n",
    "df_filtered['d'] = d\n",
    "df_filtered['dd'] = dd"
   ]
  },
  {
   "cell_type": "code",
   "execution_count": 14,
   "id": "d836d84f",
   "metadata": {},
   "outputs": [
    {
     "data": {
      "text/html": [
       "<style type=\"text/css\">\n",
       "#T_508c3_row0_col0 {\n",
       "  background-color: #49006a;\n",
       "  color: #f1f1f1;\n",
       "}\n",
       "#T_508c3_row1_col0 {\n",
       "  background-color: #5d006f;\n",
       "  color: #f1f1f1;\n",
       "}\n",
       "#T_508c3_row2_col0 {\n",
       "  background-color: #810178;\n",
       "  color: #f1f1f1;\n",
       "}\n",
       "#T_508c3_row3_col0 {\n",
       "  background-color: #bf1387;\n",
       "  color: #f1f1f1;\n",
       "}\n",
       "#T_508c3_row4_col0 {\n",
       "  background-color: #c21688;\n",
       "  color: #f1f1f1;\n",
       "}\n",
       "#T_508c3_row5_col0 {\n",
       "  background-color: #e03a98;\n",
       "  color: #f1f1f1;\n",
       "}\n",
       "#T_508c3_row6_col0 {\n",
       "  background-color: #f05a9e;\n",
       "  color: #f1f1f1;\n",
       "}\n",
       "#T_508c3_row7_col0 {\n",
       "  background-color: #f76ba2;\n",
       "  color: #f1f1f1;\n",
       "}\n",
       "#T_508c3_row8_col0 {\n",
       "  background-color: #f76ca3;\n",
       "  color: #f1f1f1;\n",
       "}\n",
       "#T_508c3_row9_col0 {\n",
       "  background-color: #fff7f3;\n",
       "  color: #000000;\n",
       "}\n",
       "</style>\n",
       "<table id=\"T_508c3\">\n",
       "  <thead>\n",
       "    <tr>\n",
       "      <th class=\"blank level0\" >&nbsp;</th>\n",
       "      <th id=\"T_508c3_level0_col0\" class=\"col_heading level0 col0\" >d</th>\n",
       "      <th id=\"T_508c3_level0_col1\" class=\"col_heading level0 col1\" >dd</th>\n",
       "    </tr>\n",
       "    <tr>\n",
       "      <th class=\"index_name level0\" >Description</th>\n",
       "      <th class=\"blank col0\" >&nbsp;</th>\n",
       "      <th class=\"blank col1\" >&nbsp;</th>\n",
       "    </tr>\n",
       "  </thead>\n",
       "  <tbody>\n",
       "    <tr>\n",
       "      <th id=\"T_508c3_level0_row0\" class=\"row_heading level0 row0\" >Mining and quarrying</th>\n",
       "      <td id=\"T_508c3_row0_col0\" class=\"data row0 col0\" >0.903529</td>\n",
       "      <td id=\"T_508c3_row0_col1\" class=\"data row0 col1\" >0.644353</td>\n",
       "    </tr>\n",
       "    <tr>\n",
       "      <th id=\"T_508c3_level0_row1\" class=\"row_heading level0 row1\" >Advertising and market research</th>\n",
       "      <td id=\"T_508c3_row1_col0\" class=\"data row1 col0\" >0.886367</td>\n",
       "      <td id=\"T_508c3_row1_col1\" class=\"data row1 col1\" >0.060567</td>\n",
       "    </tr>\n",
       "    <tr>\n",
       "      <th id=\"T_508c3_level0_row2\" class=\"row_heading level0 row2\" >Architectural and engineering activities; technical testing and analysis</th>\n",
       "      <td id=\"T_508c3_row2_col0\" class=\"data row2 col0\" >0.857173</td>\n",
       "      <td id=\"T_508c3_row2_col1\" class=\"data row2 col1\" >0.034581</td>\n",
       "    </tr>\n",
       "    <tr>\n",
       "      <th id=\"T_508c3_level0_row3\" class=\"row_heading level0 row3\" >Printing and reproduction of recorded media</th>\n",
       "      <td id=\"T_508c3_row3_col0\" class=\"data row3 col0\" >0.806823</td>\n",
       "      <td id=\"T_508c3_row3_col1\" class=\"data row3 col1\" >0.118449</td>\n",
       "    </tr>\n",
       "    <tr>\n",
       "      <th id=\"T_508c3_level0_row4\" class=\"row_heading level0 row4\" >Legal and accounting activities; activities of head offices; management consultancy activities</th>\n",
       "      <td id=\"T_508c3_row4_col0\" class=\"data row4 col0\" >0.804742</td>\n",
       "      <td id=\"T_508c3_row4_col1\" class=\"data row4 col1\" >0.071850</td>\n",
       "    </tr>\n",
       "    <tr>\n",
       "      <th id=\"T_508c3_level0_row5\" class=\"row_heading level0 row5\" >Postal and courier activities</th>\n",
       "      <td id=\"T_508c3_row5_col0\" class=\"data row5 col0\" >0.776321</td>\n",
       "      <td id=\"T_508c3_row5_col1\" class=\"data row5 col1\" >0.277867</td>\n",
       "    </tr>\n",
       "    <tr>\n",
       "      <th id=\"T_508c3_level0_row6\" class=\"row_heading level0 row6\" >Administrative and support service activities</th>\n",
       "      <td id=\"T_508c3_row6_col0\" class=\"data row6 col0\" >0.751119</td>\n",
       "      <td id=\"T_508c3_row6_col1\" class=\"data row6 col1\" >0.228494</td>\n",
       "    </tr>\n",
       "    <tr>\n",
       "      <th id=\"T_508c3_level0_row7\" class=\"row_heading level0 row7\" >Activities auxiliary to financial services and insurance activities</th>\n",
       "      <td id=\"T_508c3_row7_col0\" class=\"data row7 col0\" >0.738725</td>\n",
       "      <td id=\"T_508c3_row7_col1\" class=\"data row7 col1\" >0.120529</td>\n",
       "    </tr>\n",
       "    <tr>\n",
       "      <th id=\"T_508c3_level0_row8\" class=\"row_heading level0 row8\" >Other professional, scientific and technical activities; veterinary activities</th>\n",
       "      <td id=\"T_508c3_row8_col0\" class=\"data row8 col0\" >0.737265</td>\n",
       "      <td id=\"T_508c3_row8_col1\" class=\"data row8 col1\" >0.352215</td>\n",
       "    </tr>\n",
       "    <tr>\n",
       "      <th id=\"T_508c3_level0_row9\" class=\"row_heading level0 row9\" >Manufacture of other non-metallic mineral products</th>\n",
       "      <td id=\"T_508c3_row9_col0\" class=\"data row9 col0\" >0.577369</td>\n",
       "      <td id=\"T_508c3_row9_col1\" class=\"data row9 col1\" >0.197926</td>\n",
       "    </tr>\n",
       "  </tbody>\n",
       "</table>\n"
      ],
      "text/plain": [
       "<pandas.io.formats.style.Styler at 0x2f6538d38e0>"
      ]
     },
     "execution_count": 14,
     "metadata": {},
     "output_type": "execute_result"
    }
   ],
   "source": [
    "df_filtered.index = description\n",
    "sorted_df = df_filtered.sort_values(by='d', ascending=False).head(10)\n",
    "newdf_d = sorted_df.drop(sorted_df.iloc[:, 0 : 56], axis = 1 )\n",
    "newdf_d.style.background_gradient(subset=['d'], cmap='RdPu')"
   ]
  },
  {
   "cell_type": "code",
   "execution_count": 15,
   "id": "0170ec39",
   "metadata": {},
   "outputs": [
    {
     "data": {
      "text/html": [
       "<style type=\"text/css\">\n",
       "#T_9a3a6_row0_col1 {\n",
       "  background-color: #3f007d;\n",
       "  color: #f1f1f1;\n",
       "}\n",
       "#T_9a3a6_row1_col1, #T_9a3a6_row2_col1 {\n",
       "  background-color: #b0afd4;\n",
       "  color: #000000;\n",
       "}\n",
       "#T_9a3a6_row3_col1 {\n",
       "  background-color: #d8d8ea;\n",
       "  color: #000000;\n",
       "}\n",
       "#T_9a3a6_row4_col1 {\n",
       "  background-color: #e2e1ef;\n",
       "  color: #000000;\n",
       "}\n",
       "#T_9a3a6_row5_col1 {\n",
       "  background-color: #f3f1f7;\n",
       "  color: #000000;\n",
       "}\n",
       "#T_9a3a6_row6_col1 {\n",
       "  background-color: #f4f3f8;\n",
       "  color: #000000;\n",
       "}\n",
       "#T_9a3a6_row7_col1, #T_9a3a6_row8_col1, #T_9a3a6_row9_col1 {\n",
       "  background-color: #fcfbfd;\n",
       "  color: #000000;\n",
       "}\n",
       "</style>\n",
       "<table id=\"T_9a3a6\">\n",
       "  <thead>\n",
       "    <tr>\n",
       "      <th class=\"blank level0\" >&nbsp;</th>\n",
       "      <th id=\"T_9a3a6_level0_col0\" class=\"col_heading level0 col0\" >d</th>\n",
       "      <th id=\"T_9a3a6_level0_col1\" class=\"col_heading level0 col1\" >dd</th>\n",
       "    </tr>\n",
       "    <tr>\n",
       "      <th class=\"index_name level0\" >Description</th>\n",
       "      <th class=\"blank col0\" >&nbsp;</th>\n",
       "      <th class=\"blank col1\" >&nbsp;</th>\n",
       "    </tr>\n",
       "  </thead>\n",
       "  <tbody>\n",
       "    <tr>\n",
       "      <th id=\"T_9a3a6_level0_row0\" class=\"row_heading level0 row0\" >Sewerage; waste collection, treatment and disposal activities; materials recovery; remediation activities and other waste management services </th>\n",
       "      <td id=\"T_9a3a6_row0_col0\" class=\"data row0 col0\" >0.495968</td>\n",
       "      <td id=\"T_9a3a6_row0_col1\" class=\"data row0 col1\" >1.145428</td>\n",
       "    </tr>\n",
       "    <tr>\n",
       "      <th id=\"T_9a3a6_level0_row1\" class=\"row_heading level0 row1\" >Mining and quarrying</th>\n",
       "      <td id=\"T_9a3a6_row1_col0\" class=\"data row1 col0\" >0.903529</td>\n",
       "      <td id=\"T_9a3a6_row1_col1\" class=\"data row1 col1\" >0.644353</td>\n",
       "    </tr>\n",
       "    <tr>\n",
       "      <th id=\"T_9a3a6_level0_row2\" class=\"row_heading level0 row2\" >Wholesale and retail trade and repair of motor vehicles and motorcycles</th>\n",
       "      <td id=\"T_9a3a6_row2_col0\" class=\"data row2 col0\" >0.275989</td>\n",
       "      <td id=\"T_9a3a6_row2_col1\" class=\"data row2 col1\" >0.643817</td>\n",
       "    </tr>\n",
       "    <tr>\n",
       "      <th id=\"T_9a3a6_level0_row3\" class=\"row_heading level0 row3\" >Manufacture of electrical equipment</th>\n",
       "      <td id=\"T_9a3a6_row3_col0\" class=\"data row3 col0\" >0.281895</td>\n",
       "      <td id=\"T_9a3a6_row3_col1\" class=\"data row3 col1\" >0.501909</td>\n",
       "    </tr>\n",
       "    <tr>\n",
       "      <th id=\"T_9a3a6_level0_row4\" class=\"row_heading level0 row4\" >Manufacture of food products, beverages and tobacco products</th>\n",
       "      <td id=\"T_9a3a6_row4_col0\" class=\"data row4 col0\" >0.143050</td>\n",
       "      <td id=\"T_9a3a6_row4_col1\" class=\"data row4 col1\" >0.454964</td>\n",
       "    </tr>\n",
       "    <tr>\n",
       "      <th id=\"T_9a3a6_level0_row5\" class=\"row_heading level0 row5\" >Other professional, scientific and technical activities; veterinary activities</th>\n",
       "      <td id=\"T_9a3a6_row5_col0\" class=\"data row5 col0\" >0.737265</td>\n",
       "      <td id=\"T_9a3a6_row5_col1\" class=\"data row5 col1\" >0.352215</td>\n",
       "    </tr>\n",
       "    <tr>\n",
       "      <th id=\"T_9a3a6_level0_row6\" class=\"row_heading level0 row6\" >Manufacture of basic metals</th>\n",
       "      <td id=\"T_9a3a6_row6_col0\" class=\"data row6 col0\" >0.536983</td>\n",
       "      <td id=\"T_9a3a6_row6_col1\" class=\"data row6 col1\" >0.343625</td>\n",
       "    </tr>\n",
       "    <tr>\n",
       "      <th id=\"T_9a3a6_level0_row7\" class=\"row_heading level0 row7\" >Manufacture of machinery and equipment n.e.c.</th>\n",
       "      <td id=\"T_9a3a6_row7_col0\" class=\"data row7 col0\" >0.195619</td>\n",
       "      <td id=\"T_9a3a6_row7_col1\" class=\"data row7 col1\" >0.283375</td>\n",
       "    </tr>\n",
       "    <tr>\n",
       "      <th id=\"T_9a3a6_level0_row8\" class=\"row_heading level0 row8\" >Postal and courier activities</th>\n",
       "      <td id=\"T_9a3a6_row8_col0\" class=\"data row8 col0\" >0.776321</td>\n",
       "      <td id=\"T_9a3a6_row8_col1\" class=\"data row8 col1\" >0.277867</td>\n",
       "    </tr>\n",
       "    <tr>\n",
       "      <th id=\"T_9a3a6_level0_row9\" class=\"row_heading level0 row9\" >Retail trade, except of motor vehicles and motorcycles</th>\n",
       "      <td id=\"T_9a3a6_row9_col0\" class=\"data row9 col0\" >0.482066</td>\n",
       "      <td id=\"T_9a3a6_row9_col1\" class=\"data row9 col1\" >0.276803</td>\n",
       "    </tr>\n",
       "  </tbody>\n",
       "</table>\n"
      ],
      "text/plain": [
       "<pandas.io.formats.style.Styler at 0x2f6538d3670>"
      ]
     },
     "execution_count": 15,
     "metadata": {},
     "output_type": "execute_result"
    }
   ],
   "source": [
    "sorted_df = df_filtered.sort_values(by='dd', ascending=False).head(10)\n",
    "newdf_dd = sorted_df.drop(sorted_df.iloc[:, 0 : 56], axis = 1 )\n",
    "newdf_dd.style.background_gradient(subset=['dd'], cmap='Purples')"
   ]
  },
  {
   "cell_type": "code",
   "execution_count": null,
   "id": "7d50c323",
   "metadata": {},
   "outputs": [],
   "source": []
  },
  {
   "cell_type": "code",
   "execution_count": null,
   "id": "582bc89c",
   "metadata": {},
   "outputs": [],
   "source": []
  }
 ],
 "metadata": {
  "kernelspec": {
   "display_name": "Python 3 (ipykernel)",
   "language": "python",
   "name": "python3"
  },
  "language_info": {
   "codemirror_mode": {
    "name": "ipython",
    "version": 3
   },
   "file_extension": ".py",
   "mimetype": "text/x-python",
   "name": "python",
   "nbconvert_exporter": "python",
   "pygments_lexer": "ipython3",
   "version": "3.9.7"
  }
 },
 "nbformat": 4,
 "nbformat_minor": 5
}
